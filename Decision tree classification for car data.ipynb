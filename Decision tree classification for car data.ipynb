{
 "cells": [
  {
   "cell_type": "code",
   "execution_count": 1,
   "metadata": {},
   "outputs": [],
   "source": [
    "import numpy as np\n",
    "import pandas as pd\n",
    "import matplotlib.pyplot as plt\n",
    "from sklearn import tree, metrics\n",
    "from sklearn.model_selection import train_test_split\n",
    "\n",
    "#import graphviz"
   ]
  },
  {
   "cell_type": "code",
   "execution_count": 2,
   "metadata": {},
   "outputs": [
    {
     "data": {
      "text/html": [
       "<div>\n",
       "<style scoped>\n",
       "    .dataframe tbody tr th:only-of-type {\n",
       "        vertical-align: middle;\n",
       "    }\n",
       "\n",
       "    .dataframe tbody tr th {\n",
       "        vertical-align: top;\n",
       "    }\n",
       "\n",
       "    .dataframe thead th {\n",
       "        text-align: right;\n",
       "    }\n",
       "</style>\n",
       "<table border=\"1\" class=\"dataframe\">\n",
       "  <thead>\n",
       "    <tr style=\"text-align: right;\">\n",
       "      <th></th>\n",
       "      <th>buying</th>\n",
       "      <th>maint</th>\n",
       "      <th>doors</th>\n",
       "      <th>persons</th>\n",
       "      <th>lug_boot</th>\n",
       "      <th>safety</th>\n",
       "      <th>class1</th>\n",
       "    </tr>\n",
       "  </thead>\n",
       "  <tbody>\n",
       "    <tr>\n",
       "      <th>0</th>\n",
       "      <td>vhigh</td>\n",
       "      <td>vhigh</td>\n",
       "      <td>2</td>\n",
       "      <td>2</td>\n",
       "      <td>small</td>\n",
       "      <td>low</td>\n",
       "      <td>unacc</td>\n",
       "    </tr>\n",
       "    <tr>\n",
       "      <th>1</th>\n",
       "      <td>vhigh</td>\n",
       "      <td>vhigh</td>\n",
       "      <td>2</td>\n",
       "      <td>2</td>\n",
       "      <td>small</td>\n",
       "      <td>med</td>\n",
       "      <td>unacc</td>\n",
       "    </tr>\n",
       "    <tr>\n",
       "      <th>2</th>\n",
       "      <td>vhigh</td>\n",
       "      <td>vhigh</td>\n",
       "      <td>2</td>\n",
       "      <td>2</td>\n",
       "      <td>small</td>\n",
       "      <td>high</td>\n",
       "      <td>unacc</td>\n",
       "    </tr>\n",
       "    <tr>\n",
       "      <th>3</th>\n",
       "      <td>vhigh</td>\n",
       "      <td>vhigh</td>\n",
       "      <td>2</td>\n",
       "      <td>2</td>\n",
       "      <td>med</td>\n",
       "      <td>low</td>\n",
       "      <td>unacc</td>\n",
       "    </tr>\n",
       "    <tr>\n",
       "      <th>4</th>\n",
       "      <td>vhigh</td>\n",
       "      <td>vhigh</td>\n",
       "      <td>2</td>\n",
       "      <td>2</td>\n",
       "      <td>med</td>\n",
       "      <td>med</td>\n",
       "      <td>unacc</td>\n",
       "    </tr>\n",
       "    <tr>\n",
       "      <th>5</th>\n",
       "      <td>vhigh</td>\n",
       "      <td>vhigh</td>\n",
       "      <td>2</td>\n",
       "      <td>2</td>\n",
       "      <td>med</td>\n",
       "      <td>high</td>\n",
       "      <td>unacc</td>\n",
       "    </tr>\n",
       "    <tr>\n",
       "      <th>6</th>\n",
       "      <td>vhigh</td>\n",
       "      <td>vhigh</td>\n",
       "      <td>2</td>\n",
       "      <td>2</td>\n",
       "      <td>big</td>\n",
       "      <td>low</td>\n",
       "      <td>unacc</td>\n",
       "    </tr>\n",
       "    <tr>\n",
       "      <th>7</th>\n",
       "      <td>vhigh</td>\n",
       "      <td>vhigh</td>\n",
       "      <td>2</td>\n",
       "      <td>2</td>\n",
       "      <td>big</td>\n",
       "      <td>med</td>\n",
       "      <td>unacc</td>\n",
       "    </tr>\n",
       "    <tr>\n",
       "      <th>8</th>\n",
       "      <td>vhigh</td>\n",
       "      <td>vhigh</td>\n",
       "      <td>2</td>\n",
       "      <td>2</td>\n",
       "      <td>big</td>\n",
       "      <td>high</td>\n",
       "      <td>unacc</td>\n",
       "    </tr>\n",
       "    <tr>\n",
       "      <th>9</th>\n",
       "      <td>vhigh</td>\n",
       "      <td>vhigh</td>\n",
       "      <td>2</td>\n",
       "      <td>4</td>\n",
       "      <td>small</td>\n",
       "      <td>low</td>\n",
       "      <td>unacc</td>\n",
       "    </tr>\n",
       "  </tbody>\n",
       "</table>\n",
       "</div>"
      ],
      "text/plain": [
       "  buying  maint doors persons lug_boot safety class1\n",
       "0  vhigh  vhigh     2       2    small    low  unacc\n",
       "1  vhigh  vhigh     2       2    small    med  unacc\n",
       "2  vhigh  vhigh     2       2    small   high  unacc\n",
       "3  vhigh  vhigh     2       2      med    low  unacc\n",
       "4  vhigh  vhigh     2       2      med    med  unacc\n",
       "5  vhigh  vhigh     2       2      med   high  unacc\n",
       "6  vhigh  vhigh     2       2      big    low  unacc\n",
       "7  vhigh  vhigh     2       2      big    med  unacc\n",
       "8  vhigh  vhigh     2       2      big   high  unacc\n",
       "9  vhigh  vhigh     2       4    small    low  unacc"
      ]
     },
     "execution_count": 2,
     "metadata": {},
     "output_type": "execute_result"
    }
   ],
   "source": [
    "data = pd.read_csv('https://raw.githubusercontent.com/NeilPandey/Test_Dataset/master/car.data',\n",
    "names=['buying','maint','doors','persons','lug_boot','safety','class1'])\n",
    "data.head(10)"
   ]
  },
  {
   "cell_type": "code",
   "execution_count": 3,
   "metadata": {},
   "outputs": [
    {
     "data": {
      "text/plain": [
       "buying      object\n",
       "maint       object\n",
       "doors       object\n",
       "persons     object\n",
       "lug_boot    object\n",
       "safety      object\n",
       "class1      object\n",
       "dtype: object"
      ]
     },
     "execution_count": 3,
     "metadata": {},
     "output_type": "execute_result"
    }
   ],
   "source": [
    "data.dtypes"
   ]
  },
  {
   "cell_type": "code",
   "execution_count": 4,
   "metadata": {},
   "outputs": [
    {
     "data": {
      "text/plain": [
       "array(['unacc', 'acc', 'vgood', 'good'], dtype=object)"
      ]
     },
     "execution_count": 4,
     "metadata": {},
     "output_type": "execute_result"
    }
   ],
   "source": [
    "data.class1.unique()"
   ]
  },
  {
   "cell_type": "code",
   "execution_count": 5,
   "metadata": {},
   "outputs": [
    {
     "data": {
      "text/plain": [
       "buying      0\n",
       "maint       0\n",
       "doors       0\n",
       "persons     0\n",
       "lug_boot    0\n",
       "safety      0\n",
       "class1      0\n",
       "dtype: int64"
      ]
     },
     "execution_count": 5,
     "metadata": {},
     "output_type": "execute_result"
    }
   ],
   "source": [
    "data.isna().sum()"
   ]
  },
  {
   "cell_type": "code",
   "execution_count": null,
   "metadata": {},
   "outputs": [],
   "source": []
  },
  {
   "cell_type": "code",
   "execution_count": 6,
   "metadata": {},
   "outputs": [
    {
     "data": {
      "text/plain": [
       "(1728, 7)"
      ]
     },
     "execution_count": 6,
     "metadata": {},
     "output_type": "execute_result"
    }
   ],
   "source": [
    "data.shape"
   ]
  },
  {
   "cell_type": "code",
   "execution_count": 7,
   "metadata": {},
   "outputs": [
    {
     "name": "stdout",
     "output_type": "stream",
     "text": [
      "<class 'pandas.core.frame.DataFrame'>\n",
      "RangeIndex: 1728 entries, 0 to 1727\n",
      "Data columns (total 7 columns):\n",
      "buying      1728 non-null object\n",
      "maint       1728 non-null object\n",
      "doors       1728 non-null object\n",
      "persons     1728 non-null object\n",
      "lug_boot    1728 non-null object\n",
      "safety      1728 non-null object\n",
      "class1      1728 non-null object\n",
      "dtypes: object(7)\n",
      "memory usage: 94.6+ KB\n"
     ]
    }
   ],
   "source": [
    "data.info()"
   ]
  },
  {
   "cell_type": "code",
   "execution_count": 8,
   "metadata": {},
   "outputs": [],
   "source": [
    "data['class1'],class_names = pd.factorize(data['class1'])"
   ]
  },
  {
   "cell_type": "code",
   "execution_count": 9,
   "metadata": {},
   "outputs": [
    {
     "name": "stdout",
     "output_type": "stream",
     "text": [
      "Index(['unacc', 'acc', 'vgood', 'good'], dtype='object')\n"
     ]
    }
   ],
   "source": [
    "print(class_names)"
   ]
  },
  {
   "cell_type": "code",
   "execution_count": 10,
   "metadata": {},
   "outputs": [
    {
     "name": "stdout",
     "output_type": "stream",
     "text": [
      "[0 1 2 3]\n"
     ]
    }
   ],
   "source": [
    "print(data['class1'].unique())"
   ]
  },
  {
   "cell_type": "code",
   "execution_count": 11,
   "metadata": {},
   "outputs": [],
   "source": [
    "data['buying'],_ = pd.factorize(data['buying'])"
   ]
  },
  {
   "cell_type": "code",
   "execution_count": 12,
   "metadata": {},
   "outputs": [],
   "source": [
    "data['maint'],_ = pd.factorize(data['maint'])\n",
    "data['doors'],_ = pd.factorize(data['doors'])\n",
    "data['persons'],_ = pd.factorize(data['persons'])\n",
    "data['lug_boot'],_ = pd.factorize(data['lug_boot'])\n",
    "data['safety'],_ = pd.factorize(data['safety'])"
   ]
  },
  {
   "cell_type": "code",
   "execution_count": 13,
   "metadata": {},
   "outputs": [
    {
     "data": {
      "text/html": [
       "<div>\n",
       "<style scoped>\n",
       "    .dataframe tbody tr th:only-of-type {\n",
       "        vertical-align: middle;\n",
       "    }\n",
       "\n",
       "    .dataframe tbody tr th {\n",
       "        vertical-align: top;\n",
       "    }\n",
       "\n",
       "    .dataframe thead th {\n",
       "        text-align: right;\n",
       "    }\n",
       "</style>\n",
       "<table border=\"1\" class=\"dataframe\">\n",
       "  <thead>\n",
       "    <tr style=\"text-align: right;\">\n",
       "      <th></th>\n",
       "      <th>buying</th>\n",
       "      <th>maint</th>\n",
       "      <th>doors</th>\n",
       "      <th>persons</th>\n",
       "      <th>lug_boot</th>\n",
       "      <th>safety</th>\n",
       "      <th>class1</th>\n",
       "    </tr>\n",
       "  </thead>\n",
       "  <tbody>\n",
       "    <tr>\n",
       "      <th>0</th>\n",
       "      <td>0</td>\n",
       "      <td>0</td>\n",
       "      <td>0</td>\n",
       "      <td>0</td>\n",
       "      <td>0</td>\n",
       "      <td>0</td>\n",
       "      <td>0</td>\n",
       "    </tr>\n",
       "    <tr>\n",
       "      <th>1</th>\n",
       "      <td>0</td>\n",
       "      <td>0</td>\n",
       "      <td>0</td>\n",
       "      <td>0</td>\n",
       "      <td>0</td>\n",
       "      <td>1</td>\n",
       "      <td>0</td>\n",
       "    </tr>\n",
       "    <tr>\n",
       "      <th>2</th>\n",
       "      <td>0</td>\n",
       "      <td>0</td>\n",
       "      <td>0</td>\n",
       "      <td>0</td>\n",
       "      <td>0</td>\n",
       "      <td>2</td>\n",
       "      <td>0</td>\n",
       "    </tr>\n",
       "    <tr>\n",
       "      <th>3</th>\n",
       "      <td>0</td>\n",
       "      <td>0</td>\n",
       "      <td>0</td>\n",
       "      <td>0</td>\n",
       "      <td>1</td>\n",
       "      <td>0</td>\n",
       "      <td>0</td>\n",
       "    </tr>\n",
       "    <tr>\n",
       "      <th>4</th>\n",
       "      <td>0</td>\n",
       "      <td>0</td>\n",
       "      <td>0</td>\n",
       "      <td>0</td>\n",
       "      <td>1</td>\n",
       "      <td>1</td>\n",
       "      <td>0</td>\n",
       "    </tr>\n",
       "    <tr>\n",
       "      <th>5</th>\n",
       "      <td>0</td>\n",
       "      <td>0</td>\n",
       "      <td>0</td>\n",
       "      <td>0</td>\n",
       "      <td>1</td>\n",
       "      <td>2</td>\n",
       "      <td>0</td>\n",
       "    </tr>\n",
       "    <tr>\n",
       "      <th>6</th>\n",
       "      <td>0</td>\n",
       "      <td>0</td>\n",
       "      <td>0</td>\n",
       "      <td>0</td>\n",
       "      <td>2</td>\n",
       "      <td>0</td>\n",
       "      <td>0</td>\n",
       "    </tr>\n",
       "    <tr>\n",
       "      <th>7</th>\n",
       "      <td>0</td>\n",
       "      <td>0</td>\n",
       "      <td>0</td>\n",
       "      <td>0</td>\n",
       "      <td>2</td>\n",
       "      <td>1</td>\n",
       "      <td>0</td>\n",
       "    </tr>\n",
       "    <tr>\n",
       "      <th>8</th>\n",
       "      <td>0</td>\n",
       "      <td>0</td>\n",
       "      <td>0</td>\n",
       "      <td>0</td>\n",
       "      <td>2</td>\n",
       "      <td>2</td>\n",
       "      <td>0</td>\n",
       "    </tr>\n",
       "    <tr>\n",
       "      <th>9</th>\n",
       "      <td>0</td>\n",
       "      <td>0</td>\n",
       "      <td>0</td>\n",
       "      <td>1</td>\n",
       "      <td>0</td>\n",
       "      <td>0</td>\n",
       "      <td>0</td>\n",
       "    </tr>\n",
       "  </tbody>\n",
       "</table>\n",
       "</div>"
      ],
      "text/plain": [
       "   buying  maint  doors  persons  lug_boot  safety  class1\n",
       "0       0      0      0        0         0       0       0\n",
       "1       0      0      0        0         0       1       0\n",
       "2       0      0      0        0         0       2       0\n",
       "3       0      0      0        0         1       0       0\n",
       "4       0      0      0        0         1       1       0\n",
       "5       0      0      0        0         1       2       0\n",
       "6       0      0      0        0         2       0       0\n",
       "7       0      0      0        0         2       1       0\n",
       "8       0      0      0        0         2       2       0\n",
       "9       0      0      0        1         0       0       0"
      ]
     },
     "execution_count": 13,
     "metadata": {},
     "output_type": "execute_result"
    }
   ],
   "source": [
    "data.head(10)"
   ]
  },
  {
   "cell_type": "code",
   "execution_count": 14,
   "metadata": {},
   "outputs": [
    {
     "name": "stdout",
     "output_type": "stream",
     "text": [
      "<class 'pandas.core.frame.DataFrame'>\n",
      "RangeIndex: 1728 entries, 0 to 1727\n",
      "Data columns (total 7 columns):\n",
      "buying      1728 non-null int64\n",
      "maint       1728 non-null int64\n",
      "doors       1728 non-null int64\n",
      "persons     1728 non-null int64\n",
      "lug_boot    1728 non-null int64\n",
      "safety      1728 non-null int64\n",
      "class1      1728 non-null int64\n",
      "dtypes: int64(7)\n",
      "memory usage: 94.6 KB\n"
     ]
    }
   ],
   "source": [
    "data.info()"
   ]
  },
  {
   "cell_type": "code",
   "execution_count": 15,
   "metadata": {},
   "outputs": [],
   "source": [
    "#DATA PREPN\n",
    "X = data.iloc[:,0:-1]"
   ]
  },
  {
   "cell_type": "code",
   "execution_count": 16,
   "metadata": {},
   "outputs": [],
   "source": [
    "y = data.iloc[:,-1]"
   ]
  },
  {
   "cell_type": "code",
   "execution_count": 17,
   "metadata": {},
   "outputs": [],
   "source": [
    "X_train, X_test, y_train, y_test = train_test_split(X, y,test_size=0.25, \n",
    "                                                    random_state=0)"
   ]
  },
  {
   "cell_type": "code",
   "execution_count": 18,
   "metadata": {},
   "outputs": [],
   "source": [
    "dtree = tree.DecisionTreeClassifier(criterion='entropy', random_state=0)"
   ]
  },
  {
   "cell_type": "code",
   "execution_count": 19,
   "metadata": {},
   "outputs": [
    {
     "data": {
      "text/plain": [
       "DecisionTreeClassifier(class_weight=None, criterion='entropy', max_depth=None,\n",
       "            max_features=None, max_leaf_nodes=None,\n",
       "            min_impurity_decrease=0.0, min_impurity_split=None,\n",
       "            min_samples_leaf=1, min_samples_split=2,\n",
       "            min_weight_fraction_leaf=0.0, presort=False, random_state=0,\n",
       "            splitter='best')"
      ]
     },
     "execution_count": 19,
     "metadata": {},
     "output_type": "execute_result"
    }
   ],
   "source": [
    "dtree.fit(X_train,y_train)"
   ]
  },
  {
   "cell_type": "code",
   "execution_count": 20,
   "metadata": {},
   "outputs": [
    {
     "data": {
      "text/plain": [
       "432"
      ]
     },
     "execution_count": 20,
     "metadata": {},
     "output_type": "execute_result"
    }
   ],
   "source": [
    "y_pred = dtree.predict(X_test)\n",
    "len(y_pred)"
   ]
  },
  {
   "cell_type": "code",
   "execution_count": 21,
   "metadata": {},
   "outputs": [],
   "source": [
    "count_misclassified = (y_test != y_pred).sum()"
   ]
  },
  {
   "cell_type": "code",
   "execution_count": 22,
   "metadata": {},
   "outputs": [
    {
     "name": "stdout",
     "output_type": "stream",
     "text": [
      "Misclassified samples: 12\n"
     ]
    }
   ],
   "source": [
    "print('Misclassified samples: {}'.format(count_misclassified))"
   ]
  },
  {
   "cell_type": "code",
   "execution_count": 23,
   "metadata": {},
   "outputs": [],
   "source": [
    "accuracy = metrics.accuracy_score(y_test, y_pred)"
   ]
  },
  {
   "cell_type": "code",
   "execution_count": 24,
   "metadata": {},
   "outputs": [
    {
     "name": "stdout",
     "output_type": "stream",
     "text": [
      "Accuracy: 0.97\n"
     ]
    }
   ],
   "source": [
    "print('Accuracy: {:.2f}'.format(accuracy))"
   ]
  },
  {
   "cell_type": "code",
   "execution_count": 25,
   "metadata": {},
   "outputs": [
    {
     "data": {
      "text/html": [
       "<div>\n",
       "<style scoped>\n",
       "    .dataframe tbody tr th:only-of-type {\n",
       "        vertical-align: middle;\n",
       "    }\n",
       "\n",
       "    .dataframe tbody tr th {\n",
       "        vertical-align: top;\n",
       "    }\n",
       "\n",
       "    .dataframe thead th {\n",
       "        text-align: right;\n",
       "    }\n",
       "</style>\n",
       "<table border=\"1\" class=\"dataframe\">\n",
       "  <thead>\n",
       "    <tr style=\"text-align: right;\">\n",
       "      <th></th>\n",
       "      <th>buying</th>\n",
       "      <th>maint</th>\n",
       "      <th>doors</th>\n",
       "      <th>persons</th>\n",
       "      <th>lug_boot</th>\n",
       "      <th>safety</th>\n",
       "    </tr>\n",
       "  </thead>\n",
       "  <tbody>\n",
       "    <tr>\n",
       "      <th>1318</th>\n",
       "      <td>3</td>\n",
       "      <td>0</td>\n",
       "      <td>0</td>\n",
       "      <td>2</td>\n",
       "      <td>1</td>\n",
       "      <td>1</td>\n",
       "    </tr>\n",
       "    <tr>\n",
       "      <th>124</th>\n",
       "      <td>0</td>\n",
       "      <td>1</td>\n",
       "      <td>0</td>\n",
       "      <td>1</td>\n",
       "      <td>2</td>\n",
       "      <td>1</td>\n",
       "    </tr>\n",
       "    <tr>\n",
       "      <th>648</th>\n",
       "      <td>1</td>\n",
       "      <td>2</td>\n",
       "      <td>0</td>\n",
       "      <td>0</td>\n",
       "      <td>0</td>\n",
       "      <td>0</td>\n",
       "    </tr>\n",
       "    <tr>\n",
       "      <th>249</th>\n",
       "      <td>0</td>\n",
       "      <td>2</td>\n",
       "      <td>1</td>\n",
       "      <td>0</td>\n",
       "      <td>2</td>\n",
       "      <td>0</td>\n",
       "    </tr>\n",
       "    <tr>\n",
       "      <th>1599</th>\n",
       "      <td>3</td>\n",
       "      <td>2</td>\n",
       "      <td>3</td>\n",
       "      <td>0</td>\n",
       "      <td>2</td>\n",
       "      <td>0</td>\n",
       "    </tr>\n",
       "  </tbody>\n",
       "</table>\n",
       "</div>"
      ],
      "text/plain": [
       "      buying  maint  doors  persons  lug_boot  safety\n",
       "1318       3      0      0        2         1       1\n",
       "124        0      1      0        1         2       1\n",
       "648        1      2      0        0         0       0\n",
       "249        0      2      1        0         2       0\n",
       "1599       3      2      3        0         2       0"
      ]
     },
     "execution_count": 25,
     "metadata": {},
     "output_type": "execute_result"
    }
   ],
   "source": [
    "X_test.head(5)"
   ]
  },
  {
   "cell_type": "code",
   "execution_count": 26,
   "metadata": {},
   "outputs": [
    {
     "data": {
      "text/plain": [
       "1318    0\n",
       "124     0\n",
       "648     0\n",
       "249     0\n",
       "1599    0\n",
       "Name: class1, dtype: int64"
      ]
     },
     "execution_count": 26,
     "metadata": {},
     "output_type": "execute_result"
    }
   ],
   "source": [
    "y_test.head(5)"
   ]
  },
  {
   "cell_type": "code",
   "execution_count": 27,
   "metadata": {},
   "outputs": [
    {
     "data": {
      "text/plain": [
       "array([1], dtype=int64)"
      ]
     },
     "execution_count": 27,
     "metadata": {},
     "output_type": "execute_result"
    }
   ],
   "source": [
    "dtree.predict([[2,1,0,1,0,2]])"
   ]
  },
  {
   "cell_type": "code",
   "execution_count": 28,
   "metadata": {},
   "outputs": [
    {
     "ename": "AttributeError",
     "evalue": "module 'sklearn.tree' has no attribute 'plot_tree'",
     "output_type": "error",
     "traceback": [
      "\u001b[1;31m---------------------------------------------------------------------------\u001b[0m",
      "\u001b[1;31mAttributeError\u001b[0m                            Traceback (most recent call last)",
      "\u001b[1;32m<ipython-input-28-d2ee919f9d82>\u001b[0m in \u001b[0;36m<module>\u001b[1;34m\u001b[0m\n\u001b[1;32m----> 1\u001b[1;33m \u001b[0mtree\u001b[0m\u001b[1;33m.\u001b[0m\u001b[0mplot_tree\u001b[0m\u001b[1;33m(\u001b[0m\u001b[0mdtree\u001b[0m\u001b[1;33m)\u001b[0m\u001b[1;33m\u001b[0m\u001b[1;33m\u001b[0m\u001b[0m\n\u001b[0m",
      "\u001b[1;31mAttributeError\u001b[0m: module 'sklearn.tree' has no attribute 'plot_tree'"
     ]
    }
   ],
   "source": [
    "tree.plot_tree(dtree)"
   ]
  },
  {
   "cell_type": "code",
   "execution_count": 31,
   "metadata": {},
   "outputs": [
    {
     "name": "stdout",
     "output_type": "stream",
     "text": [
      "digraph Tree {\n",
      "node [shape=box] ;\n",
      "0 [label=\"X[5] <= 0.5\\nentropy = 1.191\\nsamples = 1296\\nvalue = [914, 285, 49, 48]\"] ;\n",
      "1 [label=\"entropy = 0.0\\nsamples = 446\\nvalue = [446, 0, 0, 0]\"] ;\n",
      "0 -> 1 [labeldistance=2.5, labelangle=45, headlabel=\"True\"] ;\n",
      "2 [label=\"X[3] <= 0.5\\nentropy = 1.474\\nsamples = 850\\nvalue = [468, 285, 49, 48]\"] ;\n",
      "0 -> 2 [labeldistance=2.5, labelangle=-45, headlabel=\"False\"] ;\n",
      "3 [label=\"entropy = 0.0\\nsamples = 286\\nvalue = [286, 0, 0, 0]\"] ;\n",
      "2 -> 3 ;\n",
      "4 [label=\"X[0] <= 1.5\\nentropy = 1.633\\nsamples = 564\\nvalue = [182, 285, 49, 48]\"] ;\n",
      "2 -> 4 ;\n",
      "5 [label=\"X[1] <= 0.5\\nentropy = 1.0\\nsamples = 290\\nvalue = [148, 142, 0, 0]\"] ;\n",
      "4 -> 5 ;\n",
      "6 [label=\"entropy = 0.0\\nsamples = 66\\nvalue = [66, 0, 0, 0]\"] ;\n",
      "5 -> 6 ;\n",
      "7 [label=\"X[4] <= 0.5\\nentropy = 0.948\\nsamples = 224\\nvalue = [82, 142, 0, 0]\"] ;\n",
      "5 -> 7 ;\n",
      "8 [label=\"X[5] <= 1.5\\nentropy = 0.927\\nsamples = 73\\nvalue = [48, 25, 0, 0]\"] ;\n",
      "7 -> 8 ;\n",
      "9 [label=\"entropy = 0.0\\nsamples = 36\\nvalue = [36, 0, 0, 0]\"] ;\n",
      "8 -> 9 ;\n",
      "10 [label=\"X[1] <= 1.5\\nentropy = 0.909\\nsamples = 37\\nvalue = [12, 25, 0, 0]\"] ;\n",
      "8 -> 10 ;\n",
      "11 [label=\"X[0] <= 0.5\\nentropy = 0.961\\nsamples = 13\\nvalue = [8, 5, 0, 0]\"] ;\n",
      "10 -> 11 ;\n",
      "12 [label=\"entropy = 0.0\\nsamples = 7\\nvalue = [7, 0, 0, 0]\"] ;\n",
      "11 -> 12 ;\n",
      "13 [label=\"X[2] <= 0.5\\nentropy = 0.65\\nsamples = 6\\nvalue = [1, 5, 0, 0]\"] ;\n",
      "11 -> 13 ;\n",
      "14 [label=\"X[3] <= 1.5\\nentropy = 1.0\\nsamples = 2\\nvalue = [1, 1, 0, 0]\"] ;\n",
      "13 -> 14 ;\n",
      "15 [label=\"entropy = 0.0\\nsamples = 1\\nvalue = [0, 1, 0, 0]\"] ;\n",
      "14 -> 15 ;\n",
      "16 [label=\"entropy = 0.0\\nsamples = 1\\nvalue = [1, 0, 0, 0]\"] ;\n",
      "14 -> 16 ;\n",
      "17 [label=\"entropy = 0.0\\nsamples = 4\\nvalue = [0, 4, 0, 0]\"] ;\n",
      "13 -> 17 ;\n",
      "18 [label=\"X[2] <= 0.5\\nentropy = 0.65\\nsamples = 24\\nvalue = [4, 20, 0, 0]\"] ;\n",
      "10 -> 18 ;\n",
      "19 [label=\"X[3] <= 1.5\\nentropy = 0.985\\nsamples = 7\\nvalue = [4, 3, 0, 0]\"] ;\n",
      "18 -> 19 ;\n",
      "20 [label=\"entropy = 0.0\\nsamples = 3\\nvalue = [0, 3, 0, 0]\"] ;\n",
      "19 -> 20 ;\n",
      "21 [label=\"entropy = 0.0\\nsamples = 4\\nvalue = [4, 0, 0, 0]\"] ;\n",
      "19 -> 21 ;\n",
      "22 [label=\"entropy = 0.0\\nsamples = 17\\nvalue = [0, 17, 0, 0]\"] ;\n",
      "18 -> 22 ;\n",
      "23 [label=\"X[1] <= 1.5\\nentropy = 0.769\\nsamples = 151\\nvalue = [34, 117, 0, 0]\"] ;\n",
      "7 -> 23 ;\n",
      "24 [label=\"X[0] <= 0.5\\nentropy = 0.999\\nsamples = 46\\nvalue = [24, 22, 0, 0]\"] ;\n",
      "23 -> 24 ;\n",
      "25 [label=\"entropy = 0.0\\nsamples = 21\\nvalue = [21, 0, 0, 0]\"] ;\n",
      "24 -> 25 ;\n",
      "26 [label=\"X[2] <= 1.5\\nentropy = 0.529\\nsamples = 25\\nvalue = [3, 22, 0, 0]\"] ;\n",
      "24 -> 26 ;\n",
      "27 [label=\"X[4] <= 1.5\\nentropy = 0.881\\nsamples = 10\\nvalue = [3, 7, 0, 0]\"] ;\n",
      "26 -> 27 ;\n",
      "28 [label=\"X[2] <= 0.5\\nentropy = 0.971\\nsamples = 5\\nvalue = [3, 2, 0, 0]\"] ;\n",
      "27 -> 28 ;\n",
      "29 [label=\"entropy = 0.0\\nsamples = 2\\nvalue = [2, 0, 0, 0]\"] ;\n",
      "28 -> 29 ;\n",
      "30 [label=\"X[3] <= 1.5\\nentropy = 0.918\\nsamples = 3\\nvalue = [1, 2, 0, 0]\"] ;\n",
      "28 -> 30 ;\n",
      "31 [label=\"entropy = 0.0\\nsamples = 1\\nvalue = [1, 0, 0, 0]\"] ;\n",
      "30 -> 31 ;\n",
      "32 [label=\"entropy = 0.0\\nsamples = 2\\nvalue = [0, 2, 0, 0]\"] ;\n",
      "30 -> 32 ;\n",
      "33 [label=\"entropy = 0.0\\nsamples = 5\\nvalue = [0, 5, 0, 0]\"] ;\n",
      "27 -> 33 ;\n",
      "34 [label=\"entropy = 0.0\\nsamples = 15\\nvalue = [0, 15, 0, 0]\"] ;\n",
      "26 -> 34 ;\n",
      "35 [label=\"X[5] <= 1.5\\nentropy = 0.454\\nsamples = 105\\nvalue = [10, 95, 0, 0]\"] ;\n",
      "23 -> 35 ;\n",
      "36 [label=\"X[2] <= 1.5\\nentropy = 0.714\\nsamples = 51\\nvalue = [10, 41, 0, 0]\"] ;\n",
      "35 -> 36 ;\n",
      "37 [label=\"X[4] <= 1.5\\nentropy = 0.961\\nsamples = 26\\nvalue = [10, 16, 0, 0]\"] ;\n",
      "36 -> 37 ;\n",
      "38 [label=\"X[3] <= 1.5\\nentropy = 0.863\\nsamples = 14\\nvalue = [10, 4, 0, 0]\"] ;\n",
      "37 -> 38 ;\n",
      "39 [label=\"entropy = 0.0\\nsamples = 7\\nvalue = [7, 0, 0, 0]\"] ;\n",
      "38 -> 39 ;\n",
      "40 [label=\"X[2] <= 0.5\\nentropy = 0.985\\nsamples = 7\\nvalue = [3, 4, 0, 0]\"] ;\n",
      "38 -> 40 ;\n",
      "41 [label=\"entropy = 0.0\\nsamples = 3\\nvalue = [3, 0, 0, 0]\"] ;\n",
      "40 -> 41 ;\n",
      "42 [label=\"entropy = 0.0\\nsamples = 4\\nvalue = [0, 4, 0, 0]\"] ;\n",
      "40 -> 42 ;\n",
      "43 [label=\"entropy = 0.0\\nsamples = 12\\nvalue = [0, 12, 0, 0]\"] ;\n",
      "37 -> 43 ;\n",
      "44 [label=\"entropy = 0.0\\nsamples = 25\\nvalue = [0, 25, 0, 0]\"] ;\n",
      "36 -> 44 ;\n",
      "45 [label=\"entropy = 0.0\\nsamples = 54\\nvalue = [0, 54, 0, 0]\"] ;\n",
      "35 -> 45 ;\n",
      "46 [label=\"X[1] <= 1.5\\nentropy = 1.748\\nsamples = 274\\nvalue = [34, 143, 49, 48]\"] ;\n",
      "4 -> 46 ;\n",
      "47 [label=\"X[4] <= 0.5\\nentropy = 1.017\\nsamples = 134\\nvalue = [26, 100, 8, 0]\"] ;\n",
      "46 -> 47 ;\n",
      "48 [label=\"X[5] <= 1.5\\nentropy = 1.0\\nsamples = 45\\nvalue = [22, 23, 0, 0]\"] ;\n",
      "47 -> 48 ;\n",
      "49 [label=\"X[0] <= 2.5\\nentropy = 0.738\\nsamples = 24\\nvalue = [19, 5, 0, 0]\"] ;\n",
      "48 -> 49 ;\n",
      "50 [label=\"entropy = 0.0\\nsamples = 14\\nvalue = [14, 0, 0, 0]\"] ;\n",
      "49 -> 50 ;\n",
      "51 [label=\"X[1] <= 0.5\\nentropy = 1.0\\nsamples = 10\\nvalue = [5, 5, 0, 0]\"] ;\n",
      "49 -> 51 ;\n",
      "52 [label=\"entropy = 0.0\\nsamples = 4\\nvalue = [4, 0, 0, 0]\"] ;\n",
      "51 -> 52 ;\n",
      "53 [label=\"X[3] <= 1.5\\nentropy = 0.65\\nsamples = 6\\nvalue = [1, 5, 0, 0]\"] ;\n",
      "51 -> 53 ;\n",
      "54 [label=\"entropy = 0.0\\nsamples = 4\\nvalue = [0, 4, 0, 0]\"] ;\n",
      "53 -> 54 ;\n",
      "55 [label=\"X[2] <= 1.5\\nentropy = 1.0\\nsamples = 2\\nvalue = [1, 1, 0, 0]\"] ;\n",
      "53 -> 55 ;\n",
      "56 [label=\"entropy = 0.0\\nsamples = 1\\nvalue = [1, 0, 0, 0]\"] ;\n",
      "55 -> 56 ;\n",
      "57 [label=\"entropy = 0.0\\nsamples = 1\\nvalue = [0, 1, 0, 0]\"] ;\n",
      "55 -> 57 ;\n",
      "58 [label=\"X[2] <= 0.5\\nentropy = 0.592\\nsamples = 21\\nvalue = [3, 18, 0, 0]\"] ;\n",
      "48 -> 58 ;\n",
      "59 [label=\"X[3] <= 1.5\\nentropy = 1.0\\nsamples = 6\\nvalue = [3, 3, 0, 0]\"] ;\n",
      "58 -> 59 ;\n",
      "60 [label=\"entropy = 0.0\\nsamples = 3\\nvalue = [0, 3, 0, 0]\"] ;\n",
      "59 -> 60 ;\n",
      "61 [label=\"entropy = 0.0\\nsamples = 3\\nvalue = [3, 0, 0, 0]\"] ;\n",
      "59 -> 61 ;\n",
      "62 [label=\"entropy = 0.0\\nsamples = 15\\nvalue = [0, 15, 0, 0]\"] ;\n",
      "58 -> 62 ;\n",
      "63 [label=\"X[5] <= 1.5\\nentropy = 0.694\\nsamples = 89\\nvalue = [4, 77, 8, 0]\"] ;\n",
      "47 -> 63 ;\n",
      "64 [label=\"X[2] <= 1.5\\nentropy = 0.433\\nsamples = 45\\nvalue = [4, 41, 0, 0]\"] ;\n",
      "63 -> 64 ;\n",
      "65 [label=\"X[4] <= 1.5\\nentropy = 0.684\\nsamples = 22\\nvalue = [4, 18, 0, 0]\"] ;\n",
      "64 -> 65 ;\n",
      "66 [label=\"X[0] <= 2.5\\nentropy = 0.991\\nsamples = 9\\nvalue = [4, 5, 0, 0]\"] ;\n",
      "65 -> 66 ;\n",
      "67 [label=\"entropy = 0.0\\nsamples = 3\\nvalue = [3, 0, 0, 0]\"] ;\n",
      "66 -> 67 ;\n",
      "68 [label=\"X[1] <= 0.5\\nentropy = 0.65\\nsamples = 6\\nvalue = [1, 5, 0, 0]\"] ;\n",
      "66 -> 68 ;\n",
      "69 [label=\"X[3] <= 1.5\\nentropy = 1.0\\nsamples = 2\\nvalue = [1, 1, 0, 0]\"] ;\n",
      "68 -> 69 ;\n",
      "70 [label=\"entropy = 0.0\\nsamples = 1\\nvalue = [1, 0, 0, 0]\"] ;\n",
      "69 -> 70 ;\n",
      "71 [label=\"entropy = 0.0\\nsamples = 1\\nvalue = [0, 1, 0, 0]\"] ;\n",
      "69 -> 71 ;\n",
      "72 [label=\"entropy = 0.0\\nsamples = 4\\nvalue = [0, 4, 0, 0]\"] ;\n",
      "68 -> 72 ;\n",
      "73 [label=\"entropy = 0.0\\nsamples = 13\\nvalue = [0, 13, 0, 0]\"] ;\n",
      "65 -> 73 ;\n",
      "74 [label=\"entropy = 0.0\\nsamples = 23\\nvalue = [0, 23, 0, 0]\"] ;\n",
      "64 -> 74 ;\n",
      "75 [label=\"X[0] <= 2.5\\nentropy = 0.684\\nsamples = 44\\nvalue = [0, 36, 8, 0]\"] ;\n",
      "63 -> 75 ;\n",
      "76 [label=\"entropy = 0.0\\nsamples = 23\\nvalue = [0, 23, 0, 0]\"] ;\n",
      "75 -> 76 ;\n",
      "77 [label=\"X[1] <= 0.5\\nentropy = 0.959\\nsamples = 21\\nvalue = [0, 13, 8, 0]\"] ;\n",
      "75 -> 77 ;\n",
      "78 [label=\"entropy = 0.0\\nsamples = 10\\nvalue = [0, 10, 0, 0]\"] ;\n",
      "77 -> 78 ;\n",
      "79 [label=\"X[4] <= 1.5\\nentropy = 0.845\\nsamples = 11\\nvalue = [0, 3, 8, 0]\"] ;\n",
      "77 -> 79 ;\n",
      "80 [label=\"X[2] <= 1.5\\nentropy = 0.971\\nsamples = 5\\nvalue = [0, 3, 2, 0]\"] ;\n",
      "79 -> 80 ;\n",
      "81 [label=\"entropy = 0.0\\nsamples = 3\\nvalue = [0, 3, 0, 0]\"] ;\n",
      "80 -> 81 ;\n",
      "82 [label=\"entropy = 0.0\\nsamples = 2\\nvalue = [0, 0, 2, 0]\"] ;\n",
      "80 -> 82 ;\n",
      "83 [label=\"entropy = 0.0\\nsamples = 6\\nvalue = [0, 0, 6, 0]\"] ;\n",
      "79 -> 83 ;\n",
      "84 [label=\"X[5] <= 1.5\\nentropy = 1.807\\nsamples = 140\\nvalue = [8, 43, 41, 48]\"] ;\n",
      "46 -> 84 ;\n",
      "85 [label=\"X[4] <= 0.5\\nentropy = 1.258\\nsamples = 66\\nvalue = [4, 35, 0, 27]\"] ;\n",
      "84 -> 85 ;\n",
      "86 [label=\"X[2] <= 0.5\\nentropy = 0.619\\nsamples = 26\\nvalue = [4, 22, 0, 0]\"] ;\n",
      "85 -> 86 ;\n",
      "87 [label=\"X[3] <= 1.5\\nentropy = 1.0\\nsamples = 8\\nvalue = [4, 4, 0, 0]\"] ;\n",
      "86 -> 87 ;\n",
      "88 [label=\"entropy = 0.0\\nsamples = 4\\nvalue = [0, 4, 0, 0]\"] ;\n",
      "87 -> 88 ;\n",
      "89 [label=\"entropy = 0.0\\nsamples = 4\\nvalue = [4, 0, 0, 0]\"] ;\n",
      "87 -> 89 ;\n",
      "90 [label=\"entropy = 0.0\\nsamples = 18\\nvalue = [0, 18, 0, 0]\"] ;\n",
      "86 -> 90 ;\n",
      "91 [label=\"X[1] <= 2.5\\nentropy = 0.91\\nsamples = 40\\nvalue = [0, 13, 0, 27]\"] ;\n",
      "85 -> 91 ;\n",
      "92 [label=\"X[0] <= 2.5\\nentropy = 0.982\\nsamples = 19\\nvalue = [0, 11, 0, 8]\"] ;\n",
      "91 -> 92 ;\n",
      "93 [label=\"entropy = 0.0\\nsamples = 9\\nvalue = [0, 9, 0, 0]\"] ;\n",
      "92 -> 93 ;\n",
      "94 [label=\"X[2] <= 1.5\\nentropy = 0.722\\nsamples = 10\\nvalue = [0, 2, 0, 8]\"] ;\n",
      "92 -> 94 ;\n",
      "95 [label=\"X[4] <= 1.5\\nentropy = 1.0\\nsamples = 4\\nvalue = [0, 2, 0, 2]\"] ;\n",
      "94 -> 95 ;\n",
      "96 [label=\"X[3] <= 1.5\\nentropy = 0.918\\nsamples = 3\\nvalue = [0, 2, 0, 1]\"] ;\n",
      "95 -> 96 ;\n",
      "97 [label=\"entropy = 0.0\\nsamples = 2\\nvalue = [0, 2, 0, 0]\"] ;\n",
      "96 -> 97 ;\n",
      "98 [label=\"entropy = 0.0\\nsamples = 1\\nvalue = [0, 0, 0, 1]\"] ;\n",
      "96 -> 98 ;\n",
      "99 [label=\"entropy = 0.0\\nsamples = 1\\nvalue = [0, 0, 0, 1]\"] ;\n",
      "95 -> 99 ;\n",
      "100 [label=\"entropy = 0.0\\nsamples = 6\\nvalue = [0, 0, 0, 6]\"] ;\n",
      "94 -> 100 ;\n",
      "101 [label=\"X[3] <= 1.5\\nentropy = 0.454\\nsamples = 21\\nvalue = [0, 2, 0, 19]\"] ;\n",
      "91 -> 101 ;\n",
      "102 [label=\"X[2] <= 1.5\\nentropy = 0.764\\nsamples = 9\\nvalue = [0, 2, 0, 7]\"] ;\n",
      "101 -> 102 ;\n",
      "103 [label=\"X[4] <= 1.5\\nentropy = 0.971\\nsamples = 5\\nvalue = [0, 2, 0, 3]\"] ;\n",
      "102 -> 103 ;\n",
      "104 [label=\"entropy = 0.0\\nsamples = 2\\nvalue = [0, 2, 0, 0]\"] ;\n",
      "103 -> 104 ;\n",
      "105 [label=\"entropy = 0.0\\nsamples = 3\\nvalue = [0, 0, 0, 3]\"] ;\n",
      "103 -> 105 ;\n",
      "106 [label=\"entropy = 0.0\\nsamples = 4\\nvalue = [0, 0, 0, 4]\"] ;\n",
      "102 -> 106 ;\n",
      "107 [label=\"entropy = 0.0\\nsamples = 12\\nvalue = [0, 0, 0, 12]\"] ;\n",
      "101 -> 107 ;\n",
      "108 [label=\"X[4] <= 0.5\\nentropy = 1.562\\nsamples = 74\\nvalue = [4, 8, 41, 21]\"] ;\n",
      "84 -> 108 ;\n",
      "109 [label=\"X[2] <= 0.5\\nentropy = 1.335\\nsamples = 26\\nvalue = [4, 6, 0, 16]\"] ;\n",
      "108 -> 109 ;\n",
      "110 [label=\"X[3] <= 1.5\\nentropy = 1.406\\nsamples = 8\\nvalue = [4, 1, 0, 3]\"] ;\n",
      "109 -> 110 ;\n",
      "111 [label=\"X[0] <= 2.5\\nentropy = 0.811\\nsamples = 4\\nvalue = [0, 1, 0, 3]\"] ;\n",
      "110 -> 111 ;\n",
      "112 [label=\"X[1] <= 2.5\\nentropy = 1.0\\nsamples = 2\\nvalue = [0, 1, 0, 1]\"] ;\n",
      "111 -> 112 ;\n",
      "113 [label=\"entropy = 0.0\\nsamples = 1\\nvalue = [0, 1, 0, 0]\"] ;\n",
      "112 -> 113 ;\n",
      "114 [label=\"entropy = 0.0\\nsamples = 1\\nvalue = [0, 0, 0, 1]\"] ;\n",
      "112 -> 114 ;\n",
      "115 [label=\"entropy = 0.0\\nsamples = 2\\nvalue = [0, 0, 0, 2]\"] ;\n",
      "111 -> 115 ;\n",
      "116 [label=\"entropy = 0.0\\nsamples = 4\\nvalue = [4, 0, 0, 0]\"] ;\n",
      "110 -> 116 ;\n",
      "117 [label=\"X[0] <= 2.5\\nentropy = 0.852\\nsamples = 18\\nvalue = [0, 5, 0, 13]\"] ;\n",
      "109 -> 117 ;\n",
      "118 [label=\"X[1] <= 2.5\\nentropy = 0.991\\nsamples = 9\\nvalue = [0, 5, 0, 4]\"] ;\n",
      "117 -> 118 ;\n",
      "119 [label=\"entropy = 0.0\\nsamples = 5\\nvalue = [0, 5, 0, 0]\"] ;\n",
      "118 -> 119 ;\n",
      "120 [label=\"entropy = 0.0\\nsamples = 4\\nvalue = [0, 0, 0, 4]\"] ;\n",
      "118 -> 120 ;\n",
      "121 [label=\"entropy = 0.0\\nsamples = 9\\nvalue = [0, 0, 0, 9]\"] ;\n",
      "117 -> 121 ;\n",
      "122 [label=\"X[4] <= 1.5\\nentropy = 0.725\\nsamples = 48\\nvalue = [0, 2, 41, 5]\"] ;\n",
      "108 -> 122 ;\n",
      "123 [label=\"X[2] <= 0.5\\nentropy = 1.149\\nsamples = 23\\nvalue = [0, 2, 16, 5]\"] ;\n",
      "122 -> 123 ;\n",
      "124 [label=\"X[0] <= 2.5\\nentropy = 0.971\\nsamples = 5\\nvalue = [0, 2, 0, 3]\"] ;\n",
      "123 -> 124 ;\n",
      "125 [label=\"X[1] <= 2.5\\nentropy = 0.918\\nsamples = 3\\nvalue = [0, 2, 0, 1]\"] ;\n",
      "124 -> 125 ;\n",
      "126 [label=\"entropy = 0.0\\nsamples = 2\\nvalue = [0, 2, 0, 0]\"] ;\n",
      "125 -> 126 ;\n",
      "127 [label=\"entropy = 0.0\\nsamples = 1\\nvalue = [0, 0, 0, 1]\"] ;\n",
      "125 -> 127 ;\n",
      "128 [label=\"entropy = 0.0\\nsamples = 2\\nvalue = [0, 0, 0, 2]\"] ;\n",
      "124 -> 128 ;\n",
      "129 [label=\"X[2] <= 1.5\\nentropy = 0.503\\nsamples = 18\\nvalue = [0, 0, 16, 2]\"] ;\n",
      "123 -> 129 ;\n",
      "130 [label=\"X[3] <= 1.5\\nentropy = 0.918\\nsamples = 6\\nvalue = [0, 0, 4, 2]\"] ;\n",
      "129 -> 130 ;\n",
      "131 [label=\"entropy = 0.0\\nsamples = 2\\nvalue = [0, 0, 0, 2]\"] ;\n",
      "130 -> 131 ;\n",
      "132 [label=\"entropy = 0.0\\nsamples = 4\\nvalue = [0, 0, 4, 0]\"] ;\n",
      "130 -> 132 ;\n",
      "133 [label=\"entropy = 0.0\\nsamples = 12\\nvalue = [0, 0, 12, 0]\"] ;\n",
      "129 -> 133 ;\n",
      "134 [label=\"entropy = 0.0\\nsamples = 25\\nvalue = [0, 0, 25, 0]\"] ;\n",
      "122 -> 134 ;\n",
      "}\n"
     ]
    }
   ],
   "source": [
    "tree.export_graphviz(dtree)"
   ]
  },
  {
   "cell_type": "code",
   "execution_count": null,
   "metadata": {},
   "outputs": [],
   "source": [
    "fn=['buying','maint','doors','persons','lug_boot','safety']\n",
    "cn=['unacc', 'acc', 'vgood', 'good']\n",
    "fig, axes = plt.subplots(nrows = 1,ncols = 1,figsize = (4,4), dpi=300)\n",
    "tree.plot_tree(dtree,\n",
    "               feature_names = fn, \n",
    "               class_names=cn,\n",
    "               filled = True);\n",
    "fig.savefig('imagename.png')"
   ]
  },
  {
   "cell_type": "code",
   "execution_count": null,
   "metadata": {},
   "outputs": [],
   "source": []
  },
  {
   "cell_type": "code",
   "execution_count": null,
   "metadata": {},
   "outputs": [],
   "source": []
  }
 ],
 "metadata": {
  "kernelspec": {
   "display_name": "Python 3",
   "language": "python",
   "name": "python3"
  },
  "language_info": {
   "codemirror_mode": {
    "name": "ipython",
    "version": 3
   },
   "file_extension": ".py",
   "mimetype": "text/x-python",
   "name": "python",
   "nbconvert_exporter": "python",
   "pygments_lexer": "ipython3",
   "version": "3.7.3"
  }
 },
 "nbformat": 4,
 "nbformat_minor": 2
}
